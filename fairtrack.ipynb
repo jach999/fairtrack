{
  "cells": [
    {
      "cell_type": "markdown",
      "metadata": {
        "colab_type": "text",
        "id": "view-in-github"
      },
      "source": [
        "<a href=\"https://colab.research.google.com/github/jach999/fairtrack/blob/master/fairtrack.ipynb\" target=\"_parent\"><img src=\"https://colab.research.google.com/assets/colab-badge.svg\" alt=\"Open In Colab\"/></a>"
      ]
    },
    {
      "cell_type": "markdown",
      "metadata": {
        "id": "GNbsDvEQMf-R"
      },
      "source": [
        "# Fairtrack: Insect Monitoring with the FAIR-Device\n",
        "<img src=\"https://raw.githubusercontent.com/jach999/fairtrack/main/assets/fair-d_scheme.png\" width=\"500\">"
      ]
    },
    {
      "cell_type": "markdown",
      "metadata": {
        "id": "E1_4_bvH0cba"
      },
      "source": [
        "## Before you start\n",
        "\n",
        "Let's make sure that we have access to GPU. We can use `nvidia-smi` command to do that. In case of any problems navigate to `Edit` -> `Notebook settings` -> `Hardware accelerator`, set it to `GPU`, and then click `Save`."
      ]
    },
    {
      "cell_type": "code",
      "execution_count": null,
      "metadata": {
        "id": "8fifu8wT-jiD"
      },
      "outputs": [],
      "source": [
        "!nvidia-smi"
      ]
    },
    {
      "cell_type": "markdown",
      "metadata": {
        "id": "Sjl5JH6JMQkc"
      },
      "source": [
        "## Copy repository and install dependencies"
      ]
    },
    {
      "cell_type": "code",
      "execution_count": null,
      "metadata": {
        "id": "gvgOPHT58jLt"
      },
      "outputs": [],
      "source": [
        "!git clone https://github.com/jach999/fairtrack.git\n",
        "%cd fairtrack\n",
        "!mkdir runs"
      ]
    },
    {
      "cell_type": "code",
      "execution_count": null,
      "metadata": {
        "id": "23mQqx_G-P7v"
      },
      "outputs": [],
      "source": [
        "!pip install -r requirements.txt"
      ]
    },
    {
      "cell_type": "markdown",
      "metadata": {
        "id": "fT0F-W3DbA7K"
      },
      "source": [
        "After restarting the session, continue here with the installation of ByteTrack"
      ]
    },
    {
      "cell_type": "code",
      "execution_count": null,
      "metadata": {
        "id": "HdVPlmrJ-UO0"
      },
      "outputs": [],
      "source": [
        "%cd fairtrack\n",
        "!python install_bytetrack.py"
      ]
    },
    {
      "cell_type": "markdown",
      "metadata": {
        "id": "JNJ8HNGb2yJr"
      },
      "source": [
        "## Test the script"
      ]
    },
    {
      "cell_type": "markdown",
      "metadata": {
        "id": "rw8wIKvq3rk9"
      },
      "source": [
        "Let's start to process an image"
      ]
    },
    {
      "cell_type": "code",
      "execution_count": null,
      "metadata": {
        "id": "BsvNrv-YInIs"
      },
      "outputs": [],
      "source": [
        "import os\n",
        "import cv2\n",
        "import matplotlib.pyplot as plt\n",
        "\n",
        "# Define source and target image paths\n",
        "source_img_path = \"test_assets/images/7.jpg\"\n",
        "source_img_filename = os.path.basename(source_img_path)\n",
        "source_file_name, _ = os.path.splitext(source_img_filename)\n",
        "target_img_path = os.path.join(\"runs\", f\"{source_file_name}_test.jpg\")\n",
        "print(source_img_path, target_img_path)\n",
        "\n",
        "# Other options\n",
        "device_type = \"fd1\"\n",
        "model_type = \"39_class\"\n",
        "\n",
        "# Run the script\n",
        "!python fairtrack_test_image.py $source_img_path $target_img_path --device $device_type --model $model_type\n",
        "\n",
        "'''# Load the processed image\n",
        "img = cv2.imread(target_img_path)\n",
        "print(f\"Image shape: {img.shape}\")\n",
        "# Display the image\n",
        "plt.figure(figsize=(8, 8))\n",
        "plt.imshow(img)\n",
        "plt.axis('off')  # Hide axes\n",
        "plt.show()'''\n",
        "# Load the processed image\n",
        "img = cv2.imread(target_img_path)\n",
        "print(f\"Image shape: {img.shape}\")\n",
        "# Display the image\n",
        "plt.figure(figsize=(8, 8))\n",
        "plt.imshow(cv2.cvtColor(img, cv2.COLOR_BGR2RGB))  # Convert BGR to RGB\n",
        "plt.axis('off')  # Hide axes"
      ]
    },
    {
      "cell_type": "markdown",
      "metadata": {
        "id": "iRtL38KTBSMa"
      },
      "source": [
        "Now, let's try with a whole video"
      ]
    },
    {
      "cell_type": "code",
      "execution_count": null,
      "metadata": {
        "id": "HTquyguG-W-g"
      },
      "outputs": [],
      "source": [
        "import os\n",
        "import cv2\n",
        "import matplotlib.pyplot as plt\n",
        "import moviepy.editor\n",
        "\n",
        "# Define source and target video paths\n",
        "source_vid_path = \"test_assets/fdV2_5/fd1/11-17-18.mp4\"\n",
        "source_vid_filename = os.path.basename(source_vid_path)\n",
        "source_file_name, _ = os.path.splitext(source_vid_filename)\n",
        "target_vid_path = os.path.join(\"runs\", f\"{source_file_name}_test.mp4\")\n",
        "print(source_vid_path, target_vid_path)\n",
        "\n",
        "#run the script\n",
        "!python fairtrack_test_video.py $source_vid_path $target_vid_path\n",
        "\n",
        "from IPython import display\n",
        "display.clear_output()\n",
        "\n",
        "print(f\"Data written to {os.path.dirname(target_vid_path)}\")"
      ]
    }
  ],
  "metadata": {
    "accelerator": "GPU",
    "colab": {
      "gpuType": "T4",
      "include_colab_link": true,
      "provenance": []
    },
    "kernelspec": {
      "display_name": "Python 3",
      "name": "python3"
    },
    "language_info": {
      "name": "python"
    }
  },
  "nbformat": 4,
  "nbformat_minor": 0
}
