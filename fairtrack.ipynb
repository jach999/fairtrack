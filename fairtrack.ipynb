{
  "nbformat": 4,
  "nbformat_minor": 0,
  "metadata": {
    "colab": {
      "provenance": [],
      "gpuType": "T4",
      "include_colab_link": true
    },
    "kernelspec": {
      "name": "python3",
      "display_name": "Python 3"
    },
    "language_info": {
      "name": "python"
    },
    "accelerator": "GPU"
  },
  "cells": [
    {
      "cell_type": "markdown",
      "metadata": {
        "id": "view-in-github",
        "colab_type": "text"
      },
      "source": [
        "<a href=\"https://colab.research.google.com/github/jach999/fairtrack/blob/master/fairtrack.ipynb\" target=\"_parent\"><img src=\"https://colab.research.google.com/assets/colab-badge.svg\" alt=\"Open In Colab\"/></a>"
      ]
    },
    {
      "cell_type": "markdown",
      "source": [
        "# Fairtrack: Insect Monitoring with the FAIR-Device\n",
        "<img src=\"https://raw.githubusercontent.com/jach999/fairtrack/main/assets/fair-d_scheme.png\" width=\"500\">"
      ],
      "metadata": {
        "id": "GNbsDvEQMf-R"
      }
    },
    {
      "cell_type": "markdown",
      "source": [
        "## Before you start\n",
        "\n",
        "Let's make sure that we have access to GPU. We can use `nvidia-smi` command to do that. In case of any problems navigate to `Edit` -> `Notebook settings` -> `Hardware accelerator`, set it to `GPU`, and then click `Save`."
      ],
      "metadata": {
        "id": "E1_4_bvH0cba"
      }
    },
    {
      "cell_type": "code",
      "source": [
        "!nvidia-smi"
      ],
      "metadata": {
        "id": "8fifu8wT-jiD"
      },
      "execution_count": null,
      "outputs": []
    },
    {
      "cell_type": "markdown",
      "source": [
        "## Copy repository and install dependencies"
      ],
      "metadata": {
        "id": "Sjl5JH6JMQkc"
      }
    },
    {
      "cell_type": "code",
      "execution_count": null,
      "metadata": {
        "id": "gvgOPHT58jLt"
      },
      "outputs": [],
      "source": [
        "!git clone https://github.com/jach999/fairtrack.git\n",
        "%cd fairtrack\n",
        "!mkdir runs"
      ]
    },
    {
      "cell_type": "code",
      "source": [
        "!pip install -r requirements.txt"
      ],
      "metadata": {
        "id": "23mQqx_G-P7v"
      },
      "execution_count": null,
      "outputs": []
    },
    {
      "cell_type": "markdown",
      "source": [
        "After restarting the session, continue here with the installation of ByteTrack"
      ],
      "metadata": {
        "id": "fT0F-W3DbA7K"
      }
    },
    {
      "cell_type": "code",
      "source": [
        "%cd fairtrack\n",
        "!python install_bytetrack.py"
      ],
      "metadata": {
        "id": "HdVPlmrJ-UO0"
      },
      "execution_count": null,
      "outputs": []
    },
    {
      "cell_type": "markdown",
      "source": [
        "## Test the script"
      ],
      "metadata": {
        "id": "JNJ8HNGb2yJr"
      }
    },
    {
      "cell_type": "markdown",
      "source": [
        "Let's start to process an image"
      ],
      "metadata": {
        "id": "rw8wIKvq3rk9"
      }
    },
    {
      "cell_type": "code",
      "source": [
        "import os\n",
        "import cv2\n",
        "import matplotlib.pyplot as plt\n",
        "\n",
        "# Define source and target image paths\n",
        "source_img_path = \"test_assets/images/7.jpg\"\n",
        "source_img_filename = os.path.basename(source_img_path)\n",
        "source_file_name, _ = os.path.splitext(source_img_filename)\n",
        "target_img_path = os.path.join(\"runs\", f\"{source_file_name}_test.jpg\")\n",
        "print(source_img_path, target_img_path)\n",
        "\n",
        "#run the script\n",
        "!python fairtrack_test_image.py $source_img_path $target_img_path\n",
        "\n",
        "# Load the processed image\n",
        "img = cv2.imread(target_img_path)\n",
        "print(f\"Image shape: {img.shape}\")\n",
        "# Display the image\n",
        "plt.figure(figsize=(8, 8))\n",
        "plt.imshow(img)\n",
        "plt.axis('off')  # Hide axes\n",
        "plt.show()"
      ],
      "metadata": {
        "id": "BsvNrv-YInIs"
      },
      "execution_count": null,
      "outputs": []
    },
    {
      "cell_type": "markdown",
      "source": [
        "Now, let's try with a whole video"
      ],
      "metadata": {
        "id": "iRtL38KTBSMa"
      }
    },
    {
      "cell_type": "code",
      "source": [
        "import os\n",
        "import cv2\n",
        "import matplotlib.pyplot as plt\n",
        "import moviepy.editor\n",
        "\n",
        "# Define source and target video paths\n",
        "source_vid_path = \"test_assets/fdV2_5/fd1/11-17-18.mp4\"\n",
        "source_vid_filename = os.path.basename(source_vid_path)\n",
        "source_file_name, _ = os.path.splitext(source_vid_filename)\n",
        "target_vid_path = os.path.join(\"runs\", f\"{source_file_name}_test.mp4\")\n",
        "print(source_vid_path, target_vid_path)\n",
        "\n",
        "#run the script\n",
        "!python fairtrack_test_video.py $source_vid_path $target_vid_path\n",
        "\n",
        "from IPython import display\n",
        "display.clear_output()\n",
        "\n",
        "print(f\"Data written to {os.path.dirname(target_vid_path)}\")"
      ],
      "metadata": {
        "id": "HTquyguG-W-g"
      },
      "execution_count": null,
      "outputs": []
    }
  ]
}